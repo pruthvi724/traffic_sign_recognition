{
 "cells": [
  {
   "cell_type": "markdown",
   "id": "012a3a82-404e-4307-9215-64b30da942ee",
   "metadata": {},
   "source": [
    "Import required libraries"
   ]
  },
  {
   "cell_type": "code",
   "execution_count": 6,
   "id": "f6ac1ea1",
   "metadata": {},
   "outputs": [],
   "source": [
    "import numpy as np \n",
    "import pandas as pd \n",
    "import matplotlib.pyplot as plt\n",
    "import cv2\n",
    "import tensorflow as tf\n",
    "from PIL import Image\n",
    "import os\n",
    "from sklearn.model_selection import train_test_split\n",
    "from keras.utils import to_categorical\n",
    "from keras.models import Sequential, load_model\n",
    "from keras.layers import Conv2D, MaxPool2D, Dense, Flatten, Dropout"
   ]
  },
  {
   "cell_type": "code",
   "execution_count": 11,
   "id": "fc26bb8d",
   "metadata": {},
   "outputs": [],
   "source": [
    "os.chdir('C:/Users/Pruthviraj Jain/Desktop/Traffic_Sign_Recognition')"
   ]
  },
  {
   "cell_type": "markdown",
   "id": "a524814c-0f3c-4aa8-905f-91618356cc87",
   "metadata": {},
   "source": [
    "Store data, labels in the list"
   ]
  },
  {
   "cell_type": "code",
   "execution_count": 12,
   "id": "bd24377d",
   "metadata": {},
   "outputs": [],
   "source": [
    "data = []\n",
    "labels = []\n",
    "# We have 43 Classes\n",
    "classes = 43\n",
    "cur_path = os.getcwd()"
   ]
  },
  {
   "cell_type": "code",
   "execution_count": 13,
   "id": "fb0919dc",
   "metadata": {},
   "outputs": [
    {
     "data": {
      "text/plain": [
       "'C:\\\\Users\\\\Pruthviraj Jain\\\\Desktop\\\\Traffic_Sign_Recognition'"
      ]
     },
     "execution_count": 13,
     "metadata": {},
     "output_type": "execute_result"
    }
   ],
   "source": [
    "cur_path"
   ]
  },
  {
   "cell_type": "markdown",
   "id": "f5ef3056-26a9-4b82-9ddb-7828d694ea63",
   "metadata": {},
   "source": [
    "Preprocess the images"
   ]
  },
  {
   "cell_type": "code",
   "execution_count": 14,
   "id": "9cf12a2a",
   "metadata": {},
   "outputs": [],
   "source": [
    "for i in range(classes):\n",
    "    path = os.path.join(cur_path,'train',str(i))\n",
    "    images = os.listdir(path)\n",
    "    for a in images:\n",
    "        try:\n",
    "            image = Image.open(path + '\\\\'+ a)\n",
    "            image = image.resize((30,30))\n",
    "            image = np.array(image)\n",
    "            data.append(image)\n",
    "            labels.append(i)\n",
    "        except Exception as e:\n",
    "            print(e)"
   ]
  },
  {
   "cell_type": "markdown",
   "id": "0d25b1a9-7847-4c03-8d6c-4fb5a1cb2bde",
   "metadata": {},
   "source": [
    "Converting lists into numpy arrays"
   ]
  },
  {
   "cell_type": "code",
   "execution_count": 15,
   "id": "1b72b7e3",
   "metadata": {},
   "outputs": [],
   "source": [
    "data = np.array(data)\n",
    "labels = np.array(labels)"
   ]
  },
  {
   "cell_type": "markdown",
   "id": "c64449ef-d0c2-46bb-b40f-bd9b41179e16",
   "metadata": {},
   "source": [
    "Save Labels & Data for future use"
   ]
  },
  {
   "cell_type": "code",
   "execution_count": 18,
   "id": "b42c0867",
   "metadata": {},
   "outputs": [],
   "source": [
    "# os.mkdir('training')\n",
    "\n",
    "np.save('./training/data',data)\n",
    "np.save('./training/target',labels)"
   ]
  },
  {
   "cell_type": "markdown",
   "id": "5f834597-6bcf-42f0-b60e-a9275724ae6a",
   "metadata": {},
   "source": [
    "Load data & Labels"
   ]
  },
  {
   "cell_type": "code",
   "execution_count": 21,
   "id": "bd11befa",
   "metadata": {},
   "outputs": [],
   "source": [
    "data=np.load('./training/data.npy')\n",
    "labels=np.load('./training/target.npy')"
   ]
  },
  {
   "cell_type": "code",
   "execution_count": 22,
   "id": "d1a26d46-dc55-445d-a6b6-7362727ed9f4",
   "metadata": {},
   "outputs": [
    {
     "name": "stdout",
     "output_type": "stream",
     "text": [
      "(39209, 30, 30, 3) (39209,)\n"
     ]
    }
   ],
   "source": [
    "print(data.shape, labels.shape)"
   ]
  },
  {
   "cell_type": "markdown",
   "id": "27ac78b0-b3bc-40e3-aafc-78e03851dc50",
   "metadata": {},
   "source": [
    "Spliting Dataset into Train and Test "
   ]
  },
  {
   "cell_type": "code",
   "execution_count": 23,
   "id": "0dccc929-b991-4492-ae37-6b7c8d0a11b9",
   "metadata": {},
   "outputs": [],
   "source": [
    "X_train, X_test, y_train, y_test = train_test_split(data, labels, test_size=0.2, random_state=0)"
   ]
  },
  {
   "cell_type": "code",
   "execution_count": 24,
   "id": "0bbfb422-ebab-440d-9de4-a951d56e842e",
   "metadata": {},
   "outputs": [
    {
     "name": "stdout",
     "output_type": "stream",
     "text": [
      "(31367, 30, 30, 3) (7842, 30, 30, 3) (31367,) (7842,)\n"
     ]
    }
   ],
   "source": [
    "print(X_train.shape, X_test.shape, y_train.shape, y_test.shape)"
   ]
  },
  {
   "cell_type": "markdown",
   "id": "0e69946d-53b1-49e1-8242-b1e3111be9d0",
   "metadata": {},
   "source": [
    "Convert labels to OneHot encoding"
   ]
  },
  {
   "cell_type": "code",
   "execution_count": 26,
   "id": "09f635d8-6f12-49a0-8c4f-b536ea178d93",
   "metadata": {},
   "outputs": [],
   "source": [
    "y_train = to_categorical(y_train, 43)\n",
    "y_test = to_categorical(y_test, 43)"
   ]
  },
  {
   "cell_type": "markdown",
   "id": "3113c61c-0d58-4910-a4a6-0338514e0d32",
   "metadata": {},
   "source": [
    "CNN Model"
   ]
  },
  {
   "cell_type": "code",
   "execution_count": 27,
   "id": "c3564c89-ed69-413a-8c72-86e143aa1db4",
   "metadata": {},
   "outputs": [],
   "source": [
    "model = Sequential()\n",
    "model.add(Conv2D(filters=32, kernel_size=(5,5), activation='relu', input_shape=X_train.shape[1:]))\n",
    "model.add(Conv2D(filters=32, kernel_size=(5,5), activation='relu'))\n",
    "model.add(MaxPool2D(pool_size=(2, 2)))\n",
    "model.add(Dropout(rate=0.25))\n",
    "model.add(Conv2D(filters=64, kernel_size=(3, 3), activation='relu'))\n",
    "model.add(Conv2D(filters=64, kernel_size=(3, 3), activation='relu'))\n",
    "model.add(MaxPool2D(pool_size=(2, 2)))\n",
    "model.add(Dropout(rate=0.25))\n",
    "model.add(Flatten())\n",
    "model.add(Dense(256, activation='relu'))\n",
    "model.add(Dropout(rate=0.5))\n",
    "# We have 43 classes that's why we have defined 43 in the dense\n",
    "model.add(Dense(43, activation='softmax'))"
   ]
  },
  {
   "cell_type": "code",
   "execution_count": 28,
   "id": "3661df26-55ac-44f4-9e40-b51d157f1f62",
   "metadata": {},
   "outputs": [],
   "source": [
    "#Compilation of the model\n",
    "model.compile(loss='categorical_crossentropy', optimizer='adam', metrics=['accuracy'])"
   ]
  },
  {
   "cell_type": "code",
   "execution_count": 29,
   "id": "19994ca2-6091-47c7-9054-47e81c6136e4",
   "metadata": {},
   "outputs": [
    {
     "name": "stdout",
     "output_type": "stream",
     "text": [
      "Epoch 1/20\n",
      "981/981 [==============================] - 37s 36ms/step - loss: 1.5576 - accuracy: 0.6184 - val_loss: 0.2260 - val_accuracy: 0.9461\n",
      "Epoch 2/20\n",
      "981/981 [==============================] - 33s 33ms/step - loss: 0.3728 - accuracy: 0.8979 - val_loss: 0.1156 - val_accuracy: 0.9684\n",
      "Epoch 3/20\n",
      "981/981 [==============================] - 27s 28ms/step - loss: 0.2627 - accuracy: 0.9279 - val_loss: 0.0901 - val_accuracy: 0.9788\n",
      "Epoch 4/20\n",
      "981/981 [==============================] - 23s 24ms/step - loss: 0.2267 - accuracy: 0.9405 - val_loss: 0.0647 - val_accuracy: 0.9851\n",
      "Epoch 5/20\n",
      "981/981 [==============================] - 27s 27ms/step - loss: 0.2139 - accuracy: 0.9443 - val_loss: 0.0767 - val_accuracy: 0.9784\n",
      "Epoch 6/20\n",
      "981/981 [==============================] - 25s 26ms/step - loss: 0.1889 - accuracy: 0.9513 - val_loss: 0.0693 - val_accuracy: 0.9821\n",
      "Epoch 7/20\n",
      "981/981 [==============================] - 24s 25ms/step - loss: 0.1851 - accuracy: 0.9546 - val_loss: 0.0584 - val_accuracy: 0.9853\n",
      "Epoch 8/20\n",
      "981/981 [==============================] - 26s 26ms/step - loss: 0.1847 - accuracy: 0.9531 - val_loss: 0.0996 - val_accuracy: 0.9742\n",
      "Epoch 9/20\n",
      "981/981 [==============================] - 30s 31ms/step - loss: 0.2087 - accuracy: 0.9502 - val_loss: 0.0747 - val_accuracy: 0.9820\n",
      "Epoch 10/20\n",
      "981/981 [==============================] - 33s 33ms/step - loss: 0.1743 - accuracy: 0.9568 - val_loss: 0.0461 - val_accuracy: 0.9888\n",
      "Epoch 11/20\n",
      "981/981 [==============================] - 26s 27ms/step - loss: 0.1989 - accuracy: 0.9529 - val_loss: 0.0807 - val_accuracy: 0.9795\n",
      "Epoch 12/20\n",
      "981/981 [==============================] - 25s 25ms/step - loss: 0.1968 - accuracy: 0.9543 - val_loss: 0.1171 - val_accuracy: 0.9672\n",
      "Epoch 13/20\n",
      "981/981 [==============================] - 29s 30ms/step - loss: 0.2277 - accuracy: 0.9496 - val_loss: 0.0557 - val_accuracy: 0.9897\n",
      "Epoch 14/20\n",
      "981/981 [==============================] - 31s 32ms/step - loss: 0.1859 - accuracy: 0.9592 - val_loss: 0.0480 - val_accuracy: 0.9888\n",
      "Epoch 15/20\n",
      "981/981 [==============================] - 38s 39ms/step - loss: 0.2098 - accuracy: 0.9542 - val_loss: 0.0364 - val_accuracy: 0.9916\n",
      "Epoch 16/20\n",
      "981/981 [==============================] - 33s 33ms/step - loss: 0.1964 - accuracy: 0.9570 - val_loss: 0.0533 - val_accuracy: 0.9887\n",
      "Epoch 17/20\n",
      "981/981 [==============================] - 31s 31ms/step - loss: 0.2565 - accuracy: 0.9485 - val_loss: 0.0638 - val_accuracy: 0.9853\n",
      "Epoch 18/20\n",
      "981/981 [==============================] - 28s 29ms/step - loss: 0.2356 - accuracy: 0.9486 - val_loss: 0.0590 - val_accuracy: 0.9862\n",
      "Epoch 19/20\n",
      "981/981 [==============================] - 30s 30ms/step - loss: 0.1918 - accuracy: 0.9593 - val_loss: 0.0420 - val_accuracy: 0.9903\n",
      "Epoch 20/20\n",
      "981/981 [==============================] - 35s 36ms/step - loss: 0.2310 - accuracy: 0.9538 - val_loss: 0.1321 - val_accuracy: 0.9684\n"
     ]
    }
   ],
   "source": [
    "epochs = 20\n",
    "history = model.fit(X_train, y_train, batch_size=32, epochs=epochs, validation_data=(X_test, y_test))"
   ]
  },
  {
   "cell_type": "code",
   "execution_count": 30,
   "id": "70964b57-3af7-4cb5-9e28-00b5b2c0ad58",
   "metadata": {},
   "outputs": [
    {
     "data": {
      "image/png": "[encoded data removed]",
      "text/plain": [
       "<Figure size 640x480 with 1 Axes>"
      ]
     },
     "metadata": {},
     "output_type": "display_data"
    }
   ],
   "source": [
    "# accuracy \n",
    "plt.figure(0)\n",
    "plt.plot(history.history['accuracy'], label='training accuracy')\n",
    "plt.plot(history.history['val_accuracy'], label='val accuracy')\n",
    "plt.title('Accuracy')\n",
    "plt.xlabel('epochs')\n",
    "plt.ylabel('accuracy')\n",
    "plt.legend()\n",
    "plt.show()"
   ]
  },
  {
   "cell_type": "code",
   "execution_count": 31,
   "id": "e21e985c-e354-49ea-bd52-9b5979b59046",
   "metadata": {},
   "outputs": [
    {
     "data": {
      "image/png": "[encoded data removed]",
      "text/plain": [
       "<Figure size 640x480 with 1 Axes>"
      ]
     },
     "metadata": {},
     "output_type": "display_data"
    }
   ],
   "source": [
    "# Loss\n",
    "plt.plot(history.history['loss'], label='training loss')\n",
    "plt.plot(history.history['val_loss'], label='val loss')\n",
    "plt.title('Loss')\n",
    "plt.xlabel('epochs')\n",
    "plt.ylabel('loss')\n",
    "plt.legend()\n",
    "plt.show()"
   ]
  },
  {
   "cell_type": "markdown",
   "id": "9934a326-18fa-421d-8fc2-cbd85a35a365",
   "metadata": {},
   "source": [
    "Train model Using Test Dataset"
   ]
  },
  {
   "cell_type": "code",
   "execution_count": 3,
   "id": "e1525d36-c952-4a51-9697-82ba4e9de023",
   "metadata": {},
   "outputs": [],
   "source": [
    "def testing(testcsv):\n",
    "    y_test = pd.read_csv(testcsv)\n",
    "    label = y_test[\"ClassId\"].values\n",
    "    imgs = y_test[\"Path\"].values\n",
    "    data=[]\n",
    "    for img in imgs:\n",
    "        image = Image.open(img)\n",
    "        image = image.resize((30,30))\n",
    "        data.append(np.array(image))\n",
    "    X_test=np.array(data)\n",
    "    return X_test,label"
   ]
  },
  {
   "cell_type": "code",
   "execution_count": 34,
   "id": "807af82a-f4a6-4f25-8a58-4ce07b5664fe",
   "metadata": {},
   "outputs": [],
   "source": [
    "X_test, label = testing('Test.csv')"
   ]
  },
  {
   "cell_type": "code",
   "execution_count": 41,
   "id": "570864dc-35a1-48f0-b292-0ac0389f56a5",
   "metadata": {},
   "outputs": [
    {
     "name": "stdout",
     "output_type": "stream",
     "text": [
      "395/395 [==============================] - 3s 8ms/step\n"
     ]
    },
    {
     "data": {
      "text/plain": [
       "array([16,  1, 38, ...,  5,  7, 10], dtype=int64)"
      ]
     },
     "execution_count": 41,
     "metadata": {},
     "output_type": "execute_result"
    }
   ],
   "source": [
    "\n",
    "# Make predictions\n",
    "predictions = model.predict(X_test)\n",
    "\n",
    "# Get the predicted classes\n",
    "Y_pred = predictions.argmax(axis=-1)\n",
    "Y_pred\n",
    "\n",
    "# Now 'predicted_classes' contains the predicted class labels for your input data."
   ]
  },
  {
   "cell_type": "code",
   "execution_count": 42,
   "id": "f46cfc16-6a53-459c-a5ed-eaf3e00ba692",
   "metadata": {},
   "outputs": [
    {
     "name": "stdout",
     "output_type": "stream",
     "text": [
      "0.9340459224069675\n"
     ]
    }
   ],
   "source": [
    "from sklearn.metrics import accuracy_score\n",
    "print(accuracy_score(label, Y_pred))"
   ]
  },
  {
   "cell_type": "markdown",
   "id": "0eccedc2-e4b5-44b7-8ad9-83d88f168075",
   "metadata": {},
   "source": [
    "Save the model"
   ]
  },
  {
   "cell_type": "code",
   "execution_count": 43,
   "id": "be2142c2-6d8e-4b3a-b3bb-d98228f44d88",
   "metadata": {},
   "outputs": [],
   "source": [
    "model.save(\"./training/TSR.h5\")"
   ]
  },
  {
   "cell_type": "markdown",
   "id": "8685c70c-e44c-4e09-b1a2-8b0f46c1cda1",
   "metadata": {},
   "source": [
    "Load the Model"
   ]
  },
  {
   "cell_type": "code",
   "execution_count": 4,
   "id": "c20ee505-4d15-4f34-9fb2-cfb9abab624f",
   "metadata": {},
   "outputs": [],
   "source": [
    "import os\n",
    "os.chdir(r'C:/Users/Pruthviraj Jain/Desktop/Traffic_Sign_Recognition')\n",
    "from keras.models import load_model\n",
    "model = load_model('./training/TSR.h5')"
   ]
  },
  {
   "cell_type": "code",
   "execution_count": 5,
   "id": "e10e2086-bdc1-4737-bc63-525d8fc48f38",
   "metadata": {},
   "outputs": [],
   "source": [
    "# Classes of trafic signs\n",
    "classes = { 0:'Speed limit (20km/h)',\n",
    "            1:'Speed limit (30km/h)', \n",
    "            2:'Speed limit (50km/h)', \n",
    "            3:'Speed limit (60km/h)', \n",
    "            4:'Speed limit (70km/h)', \n",
    "            5:'Speed limit (80km/h)', \n",
    "            6:'End of speed limit (80km/h)', \n",
    "            7:'Speed limit (100km/h)', \n",
    "            8:'Speed limit (120km/h)', \n",
    "            9:'No passing', \n",
    "            10:'No passing veh over 3.5 tons', \n",
    "            11:'Right-of-way at intersection', \n",
    "            12:'Priority road', \n",
    "            13:'Yield', \n",
    "            14:'Stop', \n",
    "            15:'No vehicles', \n",
    "            16:'Veh > 3.5 tons prohibited', \n",
    "            17:'No entry', \n",
    "            18:'General caution', \n",
    "            19:'Dangerous curve left', \n",
    "            20:'Dangerous curve right', \n",
    "            21:'Double curve', \n",
    "            22:'Bumpy road', \n",
    "            23:'Slippery road', \n",
    "            24:'Road narrows on the right', \n",
    "            25:'Road work', \n",
    "            26:'Traffic signals', \n",
    "            27:'Pedestrians', \n",
    "            28:'Children crossing', \n",
    "            29:'Bicycles crossing', \n",
    "            30:'Beware of ice/snow',\n",
    "            31:'Wild animals crossing', \n",
    "            32:'End speed + passing limits', \n",
    "            33:'Turn right ahead', \n",
    "            34:'Turn left ahead', \n",
    "            35:'Ahead only', \n",
    "            36:'Go straight or right', \n",
    "            37:'Go straight or left', \n",
    "            38:'Keep right', \n",
    "            39:'Keep left', \n",
    "            40:'Roundabout mandatory', \n",
    "            41:'End of no passing', \n",
    "            42:'End no passing veh > 3.5 tons' }"
   ]
  },
  {
   "cell_type": "code",
   "execution_count": 6,
   "id": "fdd0fd7f-b218-498e-bff6-a11d6c162ce6",
   "metadata": {},
   "outputs": [],
   "source": [
    "from PIL import Image\n",
    "import numpy as np\n",
    "import matplotlib.pyplot as plt\n",
    "def test_on_img(img):\n",
    "    data=[]\n",
    "    image = Image.open(img)\n",
    "    image = image.resize((30,30))\n",
    "    data.append(np.array(image))\n",
    "    X_test=np.array(data)\n",
    "    predictions = model.predict(X_test)\n",
    "    Y_pred = predictions.argmax(axis=-1)\n",
    "    print(Y_pred)\n",
    "    return image,Y_pred"
   ]
  },
  {
   "cell_type": "code",
   "execution_count": null,
   "id": "ab7c2c0f-f735-47f5-848d-5a94d4d4a120",
   "metadata": {},
   "outputs": [
    {
     "name": "stdout",
     "output_type": "stream",
     "text": [
      "1/1 [==============================] - 0s 133ms/step\n",
      "[11]\n",
      "[11]\n",
      "Predicted traffic sign is:  Right-of-way at intersection\n"
     ]
    }
   ],
   "source": [
    "plot,prediction = test_on_img(r'C:/Users/Pruthviraj Jain/Desktop/Traffic_Sign_Recognition/Test/00029.png')\n",
    "print(prediction)\n",
    "s = [str(i) for i in prediction] \n",
    "a = int(\"\".join(s)) \n",
    "print(\"Predicted traffic sign is: \", classes[a])\n",
    "traffic_sign_text=classes[a]\n",
    "plt.imshow(plot)\n",
    "plt.show()"
   ]
  },
  {
   "cell_type": "code",
   "execution_count": null,
   "id": "053062d6",
   "metadata": {},
   "outputs": [],
   "source": []
  }
 ],
 "metadata": {
  "kernelspec": {
   "display_name": "Python 3 (ipykernel)",
   "language": "python",
   "name": "python3"
  },
  "language_info": {
   "codemirror_mode": {
    "name": "ipython",
    "version": 3
   },
   "file_extension": ".py",
   "mimetype": "text/x-python",
   "name": "python",
   "nbconvert_exporter": "python",
   "pygments_lexer": "ipython3",
   "version": "3.10.9"
  }
 },
 "nbformat": 4,
 "nbformat_minor": 5
}
